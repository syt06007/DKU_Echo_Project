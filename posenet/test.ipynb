{
 "cells": [
  {
   "cell_type": "code",
   "execution_count": 3,
   "metadata": {},
   "outputs": [],
   "source": [
    "import torch\n",
    "from googlenet import GoogLeNet\n",
    "import torch.nn as nn\n",
    "\n",
    "model = GoogLeNet()\n",
    "a = torch.load('googlenet_places.extract.pth')"
   ]
  },
  {
   "cell_type": "code",
   "execution_count": 11,
   "metadata": {},
   "outputs": [],
   "source": [
    "from sklearn.model_selection import train_test_split\n",
    "import pandas as pd\n",
    "import os\n",
    "\n",
    "df = pd.read_csv('dataset/label.csv')\n",
    "indices = df.index.tolist()\n",
    "\n",
    "train_idx, test_idx = train_test_split(indices, test_size=0.25, random_state=777)\n",
    "train_idx.sort()\n",
    "test_idx.sort()"
   ]
  },
  {
   "cell_type": "code",
   "execution_count": 16,
   "metadata": {},
   "outputs": [],
   "source": [
    "train_data = df.loc[train_idx]\n",
    "test_data = df.loc[test_idx]\n",
    "\n",
    "train_data.to_csv('dataset/training/train.csv', index=False)\n",
    "test_data.to_csv('dataset/validation/test.csv', index=False)\n"
   ]
  },
  {
   "cell_type": "code",
   "execution_count": 19,
   "metadata": {},
   "outputs": [],
   "source": [
    "import numpy as np\n",
    "from PIL import Image\n",
    "from glob import glob"
   ]
  },
  {
   "cell_type": "code",
   "execution_count": 28,
   "metadata": {},
   "outputs": [],
   "source": [
    "path = 'dataset/images'\n",
    "\n",
    "images = glob(path + '/*')\n",
    "\n",
    "sum_image = np.zeros((1080,1920,3))\n",
    "for path in images:\n",
    "    img = np.array(Image.open(path))\n",
    "    sum_image += img\n"
   ]
  },
  {
   "cell_type": "code",
   "execution_count": 29,
   "metadata": {},
   "outputs": [],
   "source": [
    "mean_image = sum_image / len(images)"
   ]
  },
  {
   "cell_type": "code",
   "execution_count": 30,
   "metadata": {},
   "outputs": [
    {
     "data": {
      "text/plain": [
       "123.93640017218466"
      ]
     },
     "execution_count": 30,
     "metadata": {},
     "output_type": "execute_result"
    }
   ],
   "source": [
    "mean = np.mean(mean_image)\n",
    "# std = np.sqrt(np.mean)\n",
    "mean"
   ]
  },
  {
   "cell_type": "code",
   "execution_count": 31,
   "metadata": {},
   "outputs": [
    {
     "name": "stdout",
     "output_type": "stream",
     "text": [
      "Mean per channel: [0.48965957 0.48605119 0.48236454]\n",
      "Standard deviation per channel: [0.19662852 0.18862884 0.18730353]\n"
     ]
    }
   ],
   "source": [
    "import numpy as np\n",
    "from PIL import Image\n",
    "import os\n",
    "\n",
    "# 이미지들이 저장된 디렉토리를 지정합니다.\n",
    "image_directory = 'dataset/images'\n",
    "\n",
    "# 이미지 파일 이름 목록을 가져옵니다.\n",
    "image_files = [f for f in os.listdir(image_directory) if f.endswith('.jpg')]\n",
    "\n",
    "# 이미지들로부터 채널별 누적 합계와 제곱의 누적 합계를 저장할 배열을 초기화합니다.\n",
    "sum_of_pixels = np.zeros(3)\n",
    "sum_of_squares = np.zeros(3)\n",
    "num_of_pixels = 0\n",
    "\n",
    "# 이미지들을 순회하면서 채널별 합계를 계산합니다.\n",
    "for file_name in image_files:\n",
    "    image_path = os.path.join(image_directory, file_name)\n",
    "    with Image.open(image_path) as img:\n",
    "        # img = img.resize((width, height))  # 이미지를 모두 같은 크기로 조정합니다.\n",
    "        img_array = np.array(img) / 255.0  # 이미지를 [0, 1] 범위로 스케일링합니다.\n",
    "        # 채널별 합계를 계산합니다.\n",
    "        sum_of_pixels += img_array.sum(axis=(0, 1))\n",
    "        sum_of_squares += (img_array ** 2).sum(axis=(0, 1))\n",
    "        num_of_pixels += img_array.shape[0] * img_array.shape[1]\n",
    "\n",
    "# 채널별 평균(mean)을 계산합니다.\n",
    "mean = sum_of_pixels / num_of_pixels\n",
    "\n",
    "# 채널별 분산(variance)을 계산합니다.\n",
    "variance = (sum_of_squares / num_of_pixels) - (mean ** 2)\n",
    "\n",
    "# 채널별 표준편차(standard deviation)을 계산합니다.\n",
    "stddev = np.sqrt(variance)\n",
    "\n",
    "print(f\"Mean per channel: {mean}\")\n",
    "print(f\"Standard deviation per channel: {stddev}\")\n"
   ]
  }
 ],
 "metadata": {
  "kernelspec": {
   "display_name": "posenet",
   "language": "python",
   "name": "posenet"
  },
  "language_info": {
   "codemirror_mode": {
    "name": "ipython",
    "version": 3
   },
   "file_extension": ".py",
   "mimetype": "text/x-python",
   "name": "python",
   "nbconvert_exporter": "python",
   "pygments_lexer": "ipython3",
   "version": "3.8.18"
  }
 },
 "nbformat": 4,
 "nbformat_minor": 2
}
